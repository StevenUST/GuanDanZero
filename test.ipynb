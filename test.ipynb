{
 "cells": [
  {
   "cell_type": "code",
   "execution_count": 9,
   "metadata": {},
   "outputs": [
    {
     "name": "stdout",
     "output_type": "stream",
     "text": [
      "4\n",
      "deque([(2,), (4,), (1,), (3,)])\n",
      "[(3,), (1,)]\n",
      "deque([(2,), (4,)])\n"
     ]
    }
   ],
   "source": [
    "import random\n",
    "from collections import deque\n",
    "\n",
    "training_data = deque()\n",
    "training_data.append((1, ))\n",
    "training_data.append((2, ))\n",
    "training_data.append((3, ))\n",
    "training_data.append((4, ))\n",
    "\n",
    "random.shuffle(training_data)\n",
    "\n",
    "print(len(training_data))\n",
    "\n",
    "print(training_data)\n",
    "\n",
    "time = 0\n",
    "batch_size = 2\n",
    "temp = list()\n",
    "\n",
    "while time < batch_size:\n",
    "    a = training_data.pop()\n",
    "    temp.append(a)\n",
    "    time += 1\n",
    "\n",
    "print(temp)\n",
    "print(training_data)\n"
   ]
  },
  {
   "cell_type": "code",
   "execution_count": null,
   "metadata": {},
   "outputs": [],
   "source": []
  }
 ],
 "metadata": {
  "kernelspec": {
   "display_name": "rebel",
   "language": "python",
   "name": "python3"
  },
  "language_info": {
   "codemirror_mode": {
    "name": "ipython",
    "version": 3
   },
   "file_extension": ".py",
   "mimetype": "text/x-python",
   "name": "python",
   "nbconvert_exporter": "python",
   "pygments_lexer": "ipython3",
   "version": "3.9.19"
  }
 },
 "nbformat": 4,
 "nbformat_minor": 2
}
