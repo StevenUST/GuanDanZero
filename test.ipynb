{
 "cells": [
  {
   "cell_type": "code",
   "execution_count": 8,
   "metadata": {},
   "outputs": [
    {
     "name": "stdout",
     "output_type": "stream",
     "text": [
      "1324641819451828974499891837121832599810209360673358065686551152497461815091591578895743130235002378688844343005686404521144382704205360039762937774080000000000000000000000000\n",
      "True\n",
      "True\n",
      "True\n",
      "True\n",
      "True\n",
      "2.179396706943843e+44\n"
     ]
    }
   ],
   "source": [
    "import math\n",
    "\n",
    "a = math.factorial(108)\n",
    "\n",
    "print(a)\n",
    "\n",
    "b = 2 ** 54\n",
    "\n",
    "c = int(a / b)\n",
    "\n",
    "d = math.factorial(27)\n",
    "\n",
    "e = c / d\n",
    "\n",
    "print(e.is_integer())\n",
    "\n",
    "f = e / d\n",
    "\n",
    "print(f.is_integer())\n",
    "\n",
    "g = f / d\n",
    "\n",
    "print(g.is_integer())\n",
    "\n",
    "h = g / d\n",
    "\n",
    "print(h.is_integer())\n",
    "\n",
    "i = h / math.factorial(4)\n",
    "\n",
    "print(i.is_integer())\n",
    "\n",
    "print(i)"
   ]
  },
  {
   "cell_type": "code",
   "execution_count": null,
   "metadata": {},
   "outputs": [],
   "source": []
  }
 ],
 "metadata": {
  "kernelspec": {
   "display_name": "rebel",
   "language": "python",
   "name": "python3"
  },
  "language_info": {
   "codemirror_mode": {
    "name": "ipython",
    "version": 3
   },
   "file_extension": ".py",
   "mimetype": "text/x-python",
   "name": "python",
   "nbconvert_exporter": "python",
   "pygments_lexer": "ipython3",
   "version": "3.9.19"
  }
 },
 "nbformat": 4,
 "nbformat_minor": 2
}
