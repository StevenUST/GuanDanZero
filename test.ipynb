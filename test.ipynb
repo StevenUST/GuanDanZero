{
 "cells": [
  {
   "cell_type": "code",
   "execution_count": 1,
   "metadata": {},
   "outputs": [
    {
     "name": "stdout",
     "output_type": "stream",
     "text": [
      "{<cardcomb.CardComb object at 0x7f30b5ed2bb0>: 1, <cardcomb.CardComb object at 0x7f30b5ed27c0>: 2}\n"
     ]
    }
   ],
   "source": [
    "from cardcomb import CardComb\n",
    "\n",
    "a = CardComb('Single', 1, ['H2'])\n",
    "b = CardComb('Single', 1, ['D2'])\n",
    "\n",
    "Dict = dict()s\n",
    "Dict[a] = 1\n",
    "Dict[b] = 2\n",
    "\n",
    "print(Dict)\n"
   ]
  }
 ],
 "metadata": {
  "kernelspec": {
   "display_name": "rebel",
   "language": "python",
   "name": "python3"
  },
  "language_info": {
   "codemirror_mode": {
    "name": "ipython",
    "version": 3
   },
   "file_extension": ".py",
   "mimetype": "text/x-python",
   "name": "python",
   "nbconvert_exporter": "python",
   "pygments_lexer": "ipython3",
   "version": "3.9.19"
  }
 },
 "nbformat": 4,
 "nbformat_minor": 2
}
