{
 "cells": [
  {
   "cell_type": "code",
   "execution_count": 1,
   "metadata": {},
   "outputs": [
    {
     "name": "stderr",
     "output_type": "stream",
     "text": [
      "2024-07-14 15:47:33.404413: I tensorflow/core/util/port.cc:111] oneDNN custom operations are on. You may see slightly different numerical results due to floating-point round-off errors from different computation orders. To turn them off, set the environment variable `TF_ENABLE_ONEDNN_OPTS=0`.\n",
      "2024-07-14 15:47:33.427184: E tensorflow/compiler/xla/stream_executor/cuda/cuda_dnn.cc:9342] Unable to register cuDNN factory: Attempting to register factory for plugin cuDNN when one has already been registered\n",
      "2024-07-14 15:47:33.427209: E tensorflow/compiler/xla/stream_executor/cuda/cuda_fft.cc:609] Unable to register cuFFT factory: Attempting to register factory for plugin cuFFT when one has already been registered\n",
      "2024-07-14 15:47:33.427226: E tensorflow/compiler/xla/stream_executor/cuda/cuda_blas.cc:1518] Unable to register cuBLAS factory: Attempting to register factory for plugin cuBLAS when one has already been registered\n",
      "2024-07-14 15:47:33.432331: I tensorflow/core/platform/cpu_feature_guard.cc:182] This TensorFlow binary is optimized to use available CPU instructions in performance-critical operations.\n",
      "To enable the following instructions: AVX2 AVX_VNNI FMA, in other operations, rebuild TensorFlow with the appropriate compiler flags.\n",
      "2024-07-14 15:47:33.929069: W tensorflow/compiler/tf2tensorrt/utils/py_utils.cc:38] TF-TRT Warning: Could not find TensorRT\n"
     ]
    },
    {
     "name": "stdout",
     "output_type": "stream",
     "text": [
      "[PhysicalDevice(name='/physical_device:GPU:0', device_type='GPU')]\n"
     ]
    },
    {
     "name": "stderr",
     "output_type": "stream",
     "text": [
      "2024-07-14 15:47:35.360708: I tensorflow/compiler/xla/stream_executor/cuda/cuda_gpu_executor.cc:880] could not open file to read NUMA node: /sys/bus/pci/devices/0000:01:00.0/numa_node\n",
      "Your kernel may have been built without NUMA support.\n",
      "2024-07-14 15:47:35.388369: I tensorflow/compiler/xla/stream_executor/cuda/cuda_gpu_executor.cc:880] could not open file to read NUMA node: /sys/bus/pci/devices/0000:01:00.0/numa_node\n",
      "Your kernel may have been built without NUMA support.\n",
      "2024-07-14 15:47:35.389895: I tensorflow/compiler/xla/stream_executor/cuda/cuda_gpu_executor.cc:880] could not open file to read NUMA node: /sys/bus/pci/devices/0000:01:00.0/numa_node\n",
      "Your kernel may have been built without NUMA support.\n"
     ]
    }
   ],
   "source": [
    "import tensorflow as tf\n",
    "\n",
    "print(tf.config.list_physical_devices('GPU'))\n"
   ]
  },
  {
   "cell_type": "code",
   "execution_count": 2,
   "metadata": {},
   "outputs": [
    {
     "name": "stderr",
     "output_type": "stream",
     "text": [
      "2024-07-14 15:47:35.401065: I tensorflow/compiler/xla/stream_executor/cuda/cuda_gpu_executor.cc:880] could not open file to read NUMA node: /sys/bus/pci/devices/0000:01:00.0/numa_node\n",
      "Your kernel may have been built without NUMA support.\n",
      "2024-07-14 15:47:35.402766: I tensorflow/compiler/xla/stream_executor/cuda/cuda_gpu_executor.cc:880] could not open file to read NUMA node: /sys/bus/pci/devices/0000:01:00.0/numa_node\n",
      "Your kernel may have been built without NUMA support.\n",
      "2024-07-14 15:47:35.404153: I tensorflow/compiler/xla/stream_executor/cuda/cuda_gpu_executor.cc:880] could not open file to read NUMA node: /sys/bus/pci/devices/0000:01:00.0/numa_node\n",
      "Your kernel may have been built without NUMA support.\n",
      "2024-07-14 15:47:35.586107: I tensorflow/compiler/xla/stream_executor/cuda/cuda_gpu_executor.cc:880] could not open file to read NUMA node: /sys/bus/pci/devices/0000:01:00.0/numa_node\n",
      "Your kernel may have been built without NUMA support.\n",
      "2024-07-14 15:47:35.587375: I tensorflow/compiler/xla/stream_executor/cuda/cuda_gpu_executor.cc:880] could not open file to read NUMA node: /sys/bus/pci/devices/0000:01:00.0/numa_node\n",
      "Your kernel may have been built without NUMA support.\n",
      "2024-07-14 15:47:35.587387: I tensorflow/core/common_runtime/gpu/gpu_device.cc:1977] Could not identify NUMA node of platform GPU id 0, defaulting to 0.  Your kernel may not have been built with NUMA support.\n",
      "2024-07-14 15:47:35.588396: I tensorflow/compiler/xla/stream_executor/cuda/cuda_gpu_executor.cc:880] could not open file to read NUMA node: /sys/bus/pci/devices/0000:01:00.0/numa_node\n",
      "Your kernel may have been built without NUMA support.\n",
      "2024-07-14 15:47:35.588436: I tensorflow/core/common_runtime/gpu/gpu_device.cc:1886] Created device /job:localhost/replica:0/task:0/device:GPU:0 with 5563 MB memory:  -> device: 0, name: NVIDIA GeForce RTX 4060 Laptop GPU, pci bus id: 0000:01:00.0, compute capability: 8.9\n"
     ]
    },
    {
     "name": "stdout",
     "output_type": "stream",
     "text": [
      "[[1, 2], [1, 3], [2, 3]]\n"
     ]
    }
   ],
   "source": [
    "import numpy as np\n",
    "\n",
    "# tf.executing_eagerly()\n",
    "\n",
    "r = [[1, 2], [1, 3], [2, 3]]\n",
    "s : tf.Tensor = tf.reshape(r, shape=[3, 2])\n",
    "print(s.numpy().tolist())"
   ]
  },
  {
   "cell_type": "code",
   "execution_count": 3,
   "metadata": {},
   "outputs": [],
   "source": [
    "import numpy as np\n",
    "\n",
    "# tf.compat.v1.disable_eager_execution()\n",
    "\n",
    "i = np.random.rand(1, 4, 1)\n",
    "\n",
    "a = tf.keras.layers.Dense(10, activation=tf.nn.relu)(i)\n",
    "b = tf.keras.layers.Dense(5, activation=tf.nn.relu)(i)\n",
    "c = tf.keras.layers.Concatenate()([a, b])\n",
    "\n",
    "# print(a)\n",
    "# print(b)\n",
    "# print(c)"
   ]
  },
  {
   "cell_type": "code",
   "execution_count": 4,
   "metadata": {},
   "outputs": [
    {
     "name": "stdout",
     "output_type": "stream",
     "text": [
      "[[[0.3478691 ]\n",
      "  [0.41945969]\n",
      "  [0.69730464]\n",
      "  [0.330807  ]\n",
      "  [0.12702919]\n",
      "  [0.28621551]\n",
      "  [0.11157851]\n",
      "  [0.12311317]\n",
      "  [0.04780886]\n",
      "  [0.63907913]\n",
      "  [0.43320426]\n",
      "  [0.41337   ]\n",
      "  [0.51442608]\n",
      "  [0.34338854]\n",
      "  [0.92638963]]]\n",
      "tf.Tensor(\n",
      "[[[0.1373027  0.         0.20122066 0.3098793  0.41883093 0.\n",
      "   0.13433099 0.         0.16841485 0.27320346]\n",
      "  [0.28208706 0.         0.09850752 0.31841296 0.3584847  0.\n",
      "   0.0986636  0.         0.11129308 0.28066924]\n",
      "  [0.37528646 0.         0.23821858 0.2583937  0.28428584 0.\n",
      "   0.16208299 0.         0.         0.26890308]\n",
      "  [0.18229389 0.         0.3361863  0.29904598 0.14376345 0.\n",
      "   0.09716011 0.         0.         0.23758757]\n",
      "  [0.30302662 0.         0.20463212 0.18978912 0.18103406 0.0785866\n",
      "   0.16985749 0.         0.02866844 0.13042201]\n",
      "  [0.19449282 0.         0.1572325  0.12366201 0.15929931 0.\n",
      "   0.11757313 0.         0.00455142 0.1197641 ]\n",
      "  [0.08737686 0.         0.08715101 0.10798755 0.04893306 0.\n",
      "   0.02633164 0.         0.         0.08416197]\n",
      "  [0.03742531 0.         0.30062494 0.24933502 0.24911761 0.0508255\n",
      "   0.12404611 0.         0.04505613 0.18862952]\n",
      "  [0.1841904  0.         0.06514095 0.26419616 0.3281284  0.\n",
      "   0.10210606 0.         0.20495808 0.1903117 ]\n",
      "  [0.30378538 0.         0.18785828 0.26971316 0.4176981  0.\n",
      "   0.17397563 0.         0.11788412 0.28234908]\n",
      "  [0.1645549  0.         0.28161803 0.3929983  0.28916925 0.\n",
      "   0.07335286 0.         0.         0.32960898]\n",
      "  [0.40495142 0.         0.28796598 0.34104776 0.36646387 0.\n",
      "   0.22003219 0.         0.06539695 0.27958888]\n",
      "  [0.2339457  0.         0.48462933 0.48782974 0.48979715 0.\n",
      "   0.22284086 0.         0.05054879 0.40640298]\n",
      "  [0.49583218 0.         0.04682159 0.29887173 0.33445355 0.\n",
      "   0.15502453 0.         0.13172834 0.2410036 ]\n",
      "  [0.4088244  0.         0.32331216 0.18404007 0.23354143 0.\n",
      "   0.20270804 0.         0.         0.2473172 ]]], shape=(1, 15, 10), dtype=float32)\n",
      "tf.Tensor(\n",
      "[[0.1373027  0.         0.20122066 0.3098793  0.41883093 0.\n",
      "  0.13433099 0.         0.16841485 0.27320346 0.28208706 0.\n",
      "  0.09850752 0.31841296 0.3584847  0.         0.0986636  0.\n",
      "  0.11129308 0.28066924 0.37528646 0.         0.23821858 0.2583937\n",
      "  0.28428584 0.         0.16208299 0.         0.         0.26890308\n",
      "  0.18229389 0.         0.3361863  0.29904598 0.14376345 0.\n",
      "  0.09716011 0.         0.         0.23758757 0.30302662 0.\n",
      "  0.20463212 0.18978912 0.18103406 0.0785866  0.16985749 0.\n",
      "  0.02866844 0.13042201 0.19449282 0.         0.1572325  0.12366201\n",
      "  0.15929931 0.         0.11757313 0.         0.00455142 0.1197641\n",
      "  0.08737686 0.         0.08715101 0.10798755 0.04893306 0.\n",
      "  0.02633164 0.         0.         0.08416197 0.03742531 0.\n",
      "  0.30062494 0.24933502 0.24911761 0.0508255  0.12404611 0.\n",
      "  0.04505613 0.18862952 0.1841904  0.         0.06514095 0.26419616\n",
      "  0.3281284  0.         0.10210606 0.         0.20495808 0.1903117\n",
      "  0.30378538 0.         0.18785828 0.26971316 0.4176981  0.\n",
      "  0.17397563 0.         0.11788412 0.28234908 0.1645549  0.\n",
      "  0.28161803 0.3929983  0.28916925 0.         0.07335286 0.\n",
      "  0.         0.32960898 0.40495142 0.         0.28796598 0.34104776\n",
      "  0.36646387 0.         0.22003219 0.         0.06539695 0.27958888\n",
      "  0.2339457  0.         0.48462933 0.48782974 0.48979715 0.\n",
      "  0.22284086 0.         0.05054879 0.40640298 0.49583218 0.\n",
      "  0.04682159 0.29887173 0.33445355 0.         0.15502453 0.\n",
      "  0.13172834 0.2410036  0.4088244  0.         0.32331216 0.18404007\n",
      "  0.23354143 0.         0.20270804 0.         0.         0.2473172 ]], shape=(1, 150), dtype=float32)\n",
      "tf.Tensor(\n",
      "[[0.1373027  0.         0.20122066 0.3098793  0.41883093 0.\n",
      "  0.13433099 0.         0.16841485 0.27320346 0.28208706 0.\n",
      "  0.09850752 0.31841296 0.3584847  0.         0.0986636  0.\n",
      "  0.11129308 0.28066924 0.37528646 0.         0.23821858 0.2583937\n",
      "  0.28428584 0.         0.16208299 0.         0.         0.26890308\n",
      "  0.18229389 0.         0.3361863  0.29904598 0.14376345 0.\n",
      "  0.09716011 0.         0.         0.23758757 0.30302662 0.\n",
      "  0.20463212 0.18978912 0.18103406 0.0785866  0.16985749 0.\n",
      "  0.02866844 0.13042201 0.19449282 0.         0.1572325  0.12366201\n",
      "  0.15929931 0.         0.11757313 0.         0.00455142 0.1197641\n",
      "  0.08737686 0.         0.08715101 0.10798755 0.04893306 0.\n",
      "  0.02633164 0.         0.         0.08416197 0.03742531 0.\n",
      "  0.30062494 0.24933502 0.24911761 0.0508255  0.12404611 0.\n",
      "  0.04505613 0.18862952 0.1841904  0.         0.06514095 0.26419616\n",
      "  0.3281284  0.         0.10210606 0.         0.20495808 0.1903117\n",
      "  0.30378538 0.         0.18785828 0.26971316 0.4176981  0.\n",
      "  0.17397563 0.         0.11788412 0.28234908 0.1645549  0.\n",
      "  0.28161803 0.3929983  0.28916925 0.         0.07335286 0.\n",
      "  0.         0.32960898 0.40495142 0.         0.28796598 0.34104776\n",
      "  0.36646387 0.         0.22003219 0.         0.06539695 0.27958888\n",
      "  0.2339457  0.         0.48462933 0.48782974 0.48979715 0.\n",
      "  0.22284086 0.         0.05054879 0.40640298 0.49583218 0.\n",
      "  0.04682159 0.29887173 0.33445355 0.         0.15502453 0.\n",
      "  0.13172834 0.2410036  0.4088244  0.         0.32331216 0.18404007\n",
      "  0.23354143 0.         0.20270804 0.         0.         0.2473172\n",
      "  0.4603054  0.1947163  0.52313966 0.7329009  0.80216384 0.55689746\n",
      "  0.7741988  0.9145329  0.37889212 0.39688092 0.51430655 0.7679023\n",
      "  0.5599399  0.66478634 0.7022222  0.08339646 0.31604287 0.26010746\n",
      "  0.8544456  0.9894823 ]], shape=(1, 170), dtype=float32)\n"
     ]
    },
    {
     "name": "stderr",
     "output_type": "stream",
     "text": [
      "2024-07-14 15:47:35.855967: I tensorflow/compiler/xla/stream_executor/cuda/cuda_dnn.cc:442] Loaded cuDNN version 8700\n"
     ]
    }
   ],
   "source": [
    "a = np.random.rand(1, 15, 1)\n",
    "# x = tf.compat.v1.placeholder(tf.float32, shape=[None, 4, 14])\n",
    "print(a)\n",
    "y = tf.keras.layers.Conv1D(filters=10, kernel_size=5, padding=\"same\", activation=tf.nn.relu)(a)\n",
    "print(y)\n",
    "# print(y.shape)\n",
    "z = tf.keras.layers.Flatten()(y)\n",
    "print(z)\n",
    "# print(z.shape)\n",
    "\n",
    "# w = tf.compat.v1.placeholder(tf.float32, shape=[None, 14])\n",
    "w = np.random.rand(1, 20)\n",
    "\n",
    "v = tf.keras.layers.Concatenate()([z, w])\n",
    "\n",
    "print(v)"
   ]
  },
  {
   "cell_type": "code",
   "execution_count": 5,
   "metadata": {},
   "outputs": [
    {
     "name": "stderr",
     "output_type": "stream",
     "text": [
      "2024-07-14 15:47:36.292425: I tensorflow/compiler/xla/stream_executor/cuda/cuda_gpu_executor.cc:880] could not open file to read NUMA node: /sys/bus/pci/devices/0000:01:00.0/numa_node\n",
      "Your kernel may have been built without NUMA support.\n",
      "2024-07-14 15:47:36.294055: I tensorflow/compiler/xla/stream_executor/cuda/cuda_gpu_executor.cc:880] could not open file to read NUMA node: /sys/bus/pci/devices/0000:01:00.0/numa_node\n",
      "Your kernel may have been built without NUMA support.\n",
      "2024-07-14 15:47:36.295753: I tensorflow/compiler/xla/stream_executor/cuda/cuda_gpu_executor.cc:880] could not open file to read NUMA node: /sys/bus/pci/devices/0000:01:00.0/numa_node\n",
      "Your kernel may have been built without NUMA support.\n",
      "2024-07-14 15:47:36.297388: I tensorflow/compiler/xla/stream_executor/cuda/cuda_gpu_executor.cc:880] could not open file to read NUMA node: /sys/bus/pci/devices/0000:01:00.0/numa_node\n",
      "Your kernel may have been built without NUMA support.\n",
      "2024-07-14 15:47:36.297409: I tensorflow/core/common_runtime/gpu/gpu_device.cc:1977] Could not identify NUMA node of platform GPU id 0, defaulting to 0.  Your kernel may not have been built with NUMA support.\n",
      "2024-07-14 15:47:36.298811: I tensorflow/compiler/xla/stream_executor/cuda/cuda_gpu_executor.cc:880] could not open file to read NUMA node: /sys/bus/pci/devices/0000:01:00.0/numa_node\n",
      "Your kernel may have been built without NUMA support.\n",
      "2024-07-14 15:47:36.298863: I tensorflow/core/common_runtime/gpu/gpu_device.cc:1886] Created device /job:localhost/replica:0/task:0/device:GPU:0 with 5563 MB memory:  -> device: 0, name: NVIDIA GeForce RTX 4060 Laptop GPU, pci bus id: 0000:01:00.0, compute capability: 8.9\n",
      "2024-07-14 15:47:36.307969: I tensorflow/compiler/mlir/mlir_graph_optimization_pass.cc:382] MLIR V1 optimization pass is not enabled\n",
      "2024-07-14 15:47:36.622726: I tensorflow/compiler/xla/stream_executor/cuda/cuda_gpu_executor.cc:880] could not open file to read NUMA node: /sys/bus/pci/devices/0000:01:00.0/numa_node\n",
      "Your kernel may have been built without NUMA support.\n",
      "2024-07-14 15:47:36.624669: I tensorflow/compiler/xla/stream_executor/cuda/cuda_gpu_executor.cc:880] could not open file to read NUMA node: /sys/bus/pci/devices/0000:01:00.0/numa_node\n",
      "Your kernel may have been built without NUMA support.\n",
      "2024-07-14 15:47:36.626305: I tensorflow/compiler/xla/stream_executor/cuda/cuda_gpu_executor.cc:880] could not open file to read NUMA node: /sys/bus/pci/devices/0000:01:00.0/numa_node\n",
      "Your kernel may have been built without NUMA support.\n",
      "2024-07-14 15:47:36.628284: I tensorflow/compiler/xla/stream_executor/cuda/cuda_gpu_executor.cc:880] could not open file to read NUMA node: /sys/bus/pci/devices/0000:01:00.0/numa_node\n",
      "Your kernel may have been built without NUMA support.\n",
      "2024-07-14 15:47:36.628312: I tensorflow/core/common_runtime/gpu/gpu_device.cc:1977] Could not identify NUMA node of platform GPU id 0, defaulting to 0.  Your kernel may not have been built with NUMA support.\n",
      "2024-07-14 15:47:36.630155: I tensorflow/compiler/xla/stream_executor/cuda/cuda_gpu_executor.cc:880] could not open file to read NUMA node: /sys/bus/pci/devices/0000:01:00.0/numa_node\n",
      "Your kernel may have been built without NUMA support.\n",
      "2024-07-14 15:47:36.630206: I tensorflow/core/common_runtime/gpu/gpu_device.cc:1886] Created device /job:localhost/replica:0/task:0/device:GPU:0 with 5563 MB memory:  -> device: 0, name: NVIDIA GeForce RTX 4060 Laptop GPU, pci bus id: 0000:01:00.0, compute capability: 8.9\n"
     ]
    }
   ],
   "source": [
    "from guandan_net_tensorflow import GuandanNetForTwo_M1, GuandanNetForTwo_M2\n",
    "\n",
    "model = GuandanNetForTwo_M1(None)\n",
    "model2 = GuandanNetForTwo_M2(None)"
   ]
  }
 ],
 "metadata": {
  "kernelspec": {
   "display_name": "rebel",
   "language": "python",
   "name": "python3"
  },
  "language_info": {
   "codemirror_mode": {
    "name": "ipython",
    "version": 3
   },
   "file_extension": ".py",
   "mimetype": "text/x-python",
   "name": "python",
   "nbconvert_exporter": "python",
   "pygments_lexer": "ipython3",
   "version": "3.9.19"
  }
 },
 "nbformat": 4,
 "nbformat_minor": 2
}
