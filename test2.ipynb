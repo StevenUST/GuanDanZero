{
 "cells": [
  {
   "cell_type": "code",
   "execution_count": null,
   "metadata": {},
   "outputs": [],
   "source": [
    "from guandan_net_tensorflow import GuandanNetForTwo, tf\n",
    "\n",
    "# tf.random.set_seed(123123)\n",
    "\n",
    "model : GuandanNetForTwo = GuandanNetForTwo()"
   ]
  },
  {
   "cell_type": "code",
   "execution_count": null,
   "metadata": {},
   "outputs": [],
   "source": [
    "# import numpy as np\n",
    "\n",
    "# probs, value = model.get_prob(np.random.rand(1, 70), np.random.rand(1, 16, 15, 1), np.random.rand(1, 70), np.random.rand(1, 16, 15, 1),\n",
    "#                               np.random.rand(1, 17), np.random.rand(1, 15), np.random.rand(1, 13))\n",
    "\n",
    "# print(len(probs[0].tolist()))"
   ]
  },
  {
   "cell_type": "code",
   "execution_count": null,
   "metadata": {},
   "outputs": [],
   "source": [
    "from mcts_guandan import MCTSPlayer\n",
    "from cardcomb import CardComb\n",
    "from guandan_game import Cards\n",
    "\n",
    "p = MCTSPlayer(model.policy_value_function)\n",
    "\n",
    "cards = Cards()\n",
    "\n",
    "cards.last_move = CardComb('Single', 1, ['C2'])\n",
    "\n",
    "c1 = ['H4', 'D4']\n",
    "c2 = ['S3', 'D8']\n",
    "level = 13\n",
    "\n",
    "cards.init_cards(c1, c2, level)\n",
    "\n",
    "a, b = p.get_action(cards)"
   ]
  }
 ],
 "metadata": {
  "kernelspec": {
   "display_name": "rebel",
   "language": "python",
   "name": "python3"
  },
  "language_info": {
   "codemirror_mode": {
    "name": "ipython",
    "version": 3
   },
   "file_extension": ".py",
   "mimetype": "text/x-python",
   "name": "python",
   "nbconvert_exporter": "python",
   "pygments_lexer": "ipython3",
   "version": "3.9.19"
  }
 },
 "nbformat": 4,
 "nbformat_minor": 2
}
