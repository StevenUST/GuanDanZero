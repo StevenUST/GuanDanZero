{
 "cells": [
  {
   "cell_type": "code",
   "execution_count": 2,
   "metadata": {},
   "outputs": [
    {
     "name": "stdout",
     "output_type": "stream",
     "text": [
      "True\n"
     ]
    }
   ],
   "source": [
    "from guandan_net_tensorflow import GuandanNetForTwo\n",
    "\n",
    "model = GuandanNetForTwo\n",
    "\n",
    "a = (2, model)\n",
    "\n",
    "import copy\n",
    "\n",
    "b = copy.deepcopy(a)\n",
    "\n",
    "print(id(a[1]) == id(b[1]))"
   ]
  },
  {
   "cell_type": "code",
   "execution_count": 2,
   "metadata": {},
   "outputs": [
    {
     "ename": "TypeError",
     "evalue": "policy_value_function() missing 1 required positional argument: 'level'",
     "output_type": "error",
     "traceback": [
      "\u001b[0;31m---------------------------------------------------------------------------\u001b[0m",
      "\u001b[0;31mTypeError\u001b[0m                                 Traceback (most recent call last)",
      "Cell \u001b[0;32mIn[2], line 10\u001b[0m\n\u001b[1;32m      7\u001b[0m level \u001b[38;5;241m=\u001b[39m \u001b[38;5;241m1\u001b[39m\n\u001b[1;32m      9\u001b[0m cards\u001b[38;5;241m.\u001b[39minit_cards(p1, p2, level)\n\u001b[0;32m---> 10\u001b[0m p, acts, probs \u001b[38;5;241m=\u001b[39m \u001b[43mcards\u001b[49m\u001b[38;5;241;43m.\u001b[39;49m\u001b[43mget_action\u001b[49m\u001b[43m(\u001b[49m\u001b[43m)\u001b[49m\n\u001b[1;32m     12\u001b[0m \u001b[38;5;28mprint\u001b[39m(acts)\n",
      "File \u001b[0;32m~/AlphaZero_Gomoku-master/guandan_game.py:78\u001b[0m, in \u001b[0;36mCards.get_action\u001b[0;34m(self)\u001b[0m\n\u001b[1;32m     76\u001b[0m \u001b[38;5;28;01mdef\u001b[39;00m \u001b[38;5;21mget_action\u001b[39m(\u001b[38;5;28mself\u001b[39m) \u001b[38;5;241m-\u001b[39m\u001b[38;5;241m>\u001b[39m Tuple[\u001b[38;5;28mint\u001b[39m, List[\u001b[38;5;28mint\u001b[39m], List[\u001b[38;5;28mfloat\u001b[39m]]:\n\u001b[1;32m     77\u001b[0m     \u001b[38;5;28;01mif\u001b[39;00m \u001b[38;5;28mself\u001b[39m\u001b[38;5;241m.\u001b[39mcurrent_player \u001b[38;5;241m==\u001b[39m \u001b[38;5;241m1\u001b[39m:\n\u001b[0;32m---> 78\u001b[0m         acts, probs \u001b[38;5;241m=\u001b[39m \u001b[38;5;28;43mself\u001b[39;49m\u001b[38;5;241;43m.\u001b[39;49m\u001b[43mmcts1\u001b[49m\u001b[38;5;241;43m.\u001b[39;49m\u001b[43mget_move_probs\u001b[49m\u001b[43m(\u001b[49m\u001b[38;5;28;43mself\u001b[39;49m\u001b[43m,\u001b[49m\u001b[43m \u001b[49m\u001b[43mtemp\u001b[49m\u001b[38;5;241;43m=\u001b[39;49m\u001b[38;5;241;43m0.001\u001b[39;49m\u001b[43m)\u001b[49m\n\u001b[1;32m     79\u001b[0m     \u001b[38;5;28;01melse\u001b[39;00m:\n\u001b[1;32m     80\u001b[0m         acts, probs \u001b[38;5;241m=\u001b[39m \u001b[38;5;28mself\u001b[39m\u001b[38;5;241m.\u001b[39mmcts2\u001b[38;5;241m.\u001b[39mget_move_probs(\u001b[38;5;28mself\u001b[39m, temp\u001b[38;5;241m=\u001b[39m\u001b[38;5;241m0.001\u001b[39m)\n",
      "File \u001b[0;32m~/AlphaZero_Gomoku-master/mcts_guandan.py:156\u001b[0m, in \u001b[0;36mMCTS.get_move_probs\u001b[0;34m(self, cards, temp)\u001b[0m\n\u001b[1;32m    154\u001b[0m \u001b[38;5;28;01mfor\u001b[39;00m _ \u001b[38;5;129;01min\u001b[39;00m \u001b[38;5;28mrange\u001b[39m(\u001b[38;5;28mself\u001b[39m\u001b[38;5;241m.\u001b[39m_n_playout):\n\u001b[1;32m    155\u001b[0m     state_copy \u001b[38;5;241m=\u001b[39m copy\u001b[38;5;241m.\u001b[39mdeepcopy(cards)\n\u001b[0;32m--> 156\u001b[0m     \u001b[38;5;28;43mself\u001b[39;49m\u001b[38;5;241;43m.\u001b[39;49m\u001b[43m_playout\u001b[49m\u001b[43m(\u001b[49m\u001b[43mstate_copy\u001b[49m\u001b[43m)\u001b[49m\n\u001b[1;32m    158\u001b[0m \u001b[38;5;66;03m# calc the move probabilities based on visit counts at the root node\u001b[39;00m\n\u001b[1;32m    159\u001b[0m act_visits \u001b[38;5;241m=\u001b[39m [(act, node\u001b[38;5;241m.\u001b[39m_n_visits)\n\u001b[1;32m    160\u001b[0m               \u001b[38;5;28;01mfor\u001b[39;00m act, node \u001b[38;5;129;01min\u001b[39;00m \u001b[38;5;28mself\u001b[39m\u001b[38;5;241m.\u001b[39m_root\u001b[38;5;241m.\u001b[39m_children\u001b[38;5;241m.\u001b[39mitems()]\n",
      "File \u001b[0;32m~/AlphaZero_Gomoku-master/mcts_guandan.py:133\u001b[0m, in \u001b[0;36mMCTS._playout\u001b[0;34m(self, cards)\u001b[0m\n\u001b[1;32m    130\u001b[0m last_action \u001b[38;5;241m=\u001b[39m cards\u001b[38;5;241m.\u001b[39mlast_move_list()\n\u001b[1;32m    131\u001b[0m current_level \u001b[38;5;241m=\u001b[39m cards\u001b[38;5;241m.\u001b[39mlevel_list()\n\u001b[0;32m--> 133\u001b[0m action_probs, leaf_value \u001b[38;5;241m=\u001b[39m \u001b[38;5;28;43mself\u001b[39;49m\u001b[38;5;241;43m.\u001b[39;49m\u001b[43m_policy\u001b[49m\u001b[43m(\u001b[49m\u001b[43mmy_states\u001b[49m\u001b[43m,\u001b[49m\u001b[43m \u001b[49m\u001b[43moppo_states\u001b[49m\u001b[43m,\u001b[49m\u001b[43m \u001b[49m\u001b[43mlast_action\u001b[49m\u001b[43m,\u001b[49m\u001b[43m \u001b[49m\u001b[43mcurrent_level\u001b[49m\u001b[43m)\u001b[49m\n\u001b[1;32m    134\u001b[0m \u001b[38;5;66;03m# Check for end of game.\u001b[39;00m\n\u001b[1;32m    135\u001b[0m is_end \u001b[38;5;241m=\u001b[39m cards\u001b[38;5;241m.\u001b[39mhas_a_winner()\n",
      "\u001b[0;31mTypeError\u001b[0m: policy_value_function() missing 1 required positional argument: 'level'"
     ]
    }
   ],
   "source": [
    "# from guandan_game import Cards\n",
    "\n",
    "# cards = Cards(policy_value_fn=model.policy_value_function)\n",
    "\n",
    "# p1 = ['H2', 'D2']\n",
    "# p2 = ['S3', 'S9']\n",
    "# level = 1\n",
    "\n",
    "# cards.init_cards(p1, p2, level)\n",
    "# p, acts, probs = cards.get_action()\n",
    "\n",
    "# print(acts)"
   ]
  }
 ],
 "metadata": {
  "kernelspec": {
   "display_name": "rebel",
   "language": "python",
   "name": "python3"
  },
  "language_info": {
   "codemirror_mode": {
    "name": "ipython",
    "version": 3
   },
   "file_extension": ".py",
   "mimetype": "text/x-python",
   "name": "python",
   "nbconvert_exporter": "python",
   "pygments_lexer": "ipython3",
   "version": "3.9.19"
  }
 },
 "nbformat": 4,
 "nbformat_minor": 2
}
