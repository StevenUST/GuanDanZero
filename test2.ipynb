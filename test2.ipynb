{
 "cells": [
  {
   "cell_type": "code",
   "execution_count": 1,
   "metadata": {},
   "outputs": [],
   "source": [
    "import copy\n",
    "\n",
    "from cardcomb import CardComb\n",
    "\n",
    "a = CardComb('Single', 1, ['H2'])\n",
    "\n",
    "b = copy.deepcopy(a)\n",
    "\n",
    "assert a == b"
   ]
  },
  {
   "cell_type": "code",
   "execution_count": 2,
   "metadata": {},
   "outputs": [
    {
     "name": "stdout",
     "output_type": "stream",
     "text": [
      "{'a': 2}\n"
     ]
    }
   ],
   "source": [
    "d1 = dict()\n",
    "d1['a'] = 2\n",
    "\n",
    "d2 = copy.copy(d1)\n",
    "\n",
    "d2['a'] = 1\n",
    "\n",
    "print(d1)"
   ]
  },
  {
   "cell_type": "code",
   "execution_count": 7,
   "metadata": {},
   "outputs": [
    {
     "name": "stdout",
     "output_type": "stream",
     "text": [
      "tf.Tensor(\n",
      "[[1. 2. 3. 4.]\n",
      " [1. 2. 4. 5.]], shape=(2, 4), dtype=float32)\n"
     ]
    }
   ],
   "source": [
    "import tensorflow as tf\n",
    "\n",
    "a = [[1, 2, 3, 4], [1, 2, 4, 5]]\n",
    "\n",
    "b = tf.convert_to_tensor(a, dtype=tf.float32)\n",
    "\n",
    "print(b)"
   ]
  },
  {
   "cell_type": "code",
   "execution_count": 4,
   "metadata": {},
   "outputs": [
    {
     "name": "stdout",
     "output_type": "stream",
     "text": [
      "False\n"
     ]
    }
   ],
   "source": [
    "from guandan_game import Cards\n",
    "\n",
    "a = Cards()\n",
    "\n",
    "b = copy.deepcopy(a)\n",
    "\n",
    "print(id(a) == id(b))"
   ]
  },
  {
   "cell_type": "code",
   "execution_count": 5,
   "metadata": {},
   "outputs": [
    {
     "name": "stdout",
     "output_type": "stream",
     "text": [
      "[0, 1, 3]\n",
      "[0, 1, 4]\n",
      "[0, 1, 5]\n"
     ]
    }
   ],
   "source": [
    "from typing import List\n",
    "from guandan_tree_node import GDResultNode\n",
    "\n",
    "n0 = GDResultNode(0, 0, 0, 1)\n",
    "n1 = GDResultNode(1, 1, 1, 1)\n",
    "n2 = GDResultNode(1, 2, 1, 1)\n",
    "\n",
    "n0.add_child_node(n1)\n",
    "n1.add_parent(n0)\n",
    "n0.add_child_node(n2)\n",
    "n2.add_parent(n0)\n",
    "\n",
    "n3 = GDResultNode(0, 3, 2, 1)\n",
    "n4 = GDResultNode(0, 4, 2, 1)\n",
    "n5 = GDResultNode(0, 5, 2, 1)\n",
    "\n",
    "n1.add_child_node(n3)\n",
    "n3.add_parent(n1)\n",
    "n1.add_child_node(n4)\n",
    "n4.add_parent(n1)\n",
    "n1.add_child_node(n5)\n",
    "n5.add_parent(n1)\n",
    "\n",
    "result : List[List[GDResultNode]]= [[n0, n1], [n0, n2]]\n",
    "\n",
    "need_to_copy_node = n1\n",
    "\n",
    "new_nodes = [n3, n4, n5]\n",
    "\n",
    "for i in range(len(result)):\n",
    "    r = result[i]\n",
    "    if r[-1] == need_to_copy_node:\n",
    "        _ = result.pop(i)\n",
    "        # if len(new_nodes) == 1:\n",
    "        #     r.append(new_nodes[0])\n",
    "        # else:\n",
    "        #     temp = r.copy()\n",
    "        #     r.append(new_nodes[0])\n",
    "        #     for n_node in new_nodes[1:]:\n",
    "        #         temp2 = temp.copy()\n",
    "        #         temp2.append(n_node)\n",
    "        #         result.append(temp2)\n",
    "        for n_node in new_nodes:\n",
    "            temp = r.copy()\n",
    "            temp.append(n_node)\n",
    "            result.append(temp)\n",
    "        break\n",
    "\n",
    "print(f\"[{result[1][0].node_index}, {result[1][1].node_index}, {result[1][2].node_index}]\")\n",
    "print(f\"[{result[2][0].node_index}, {result[2][1].node_index}, {result[2][2].node_index}]\")\n",
    "print(f\"[{result[3][0].node_index}, {result[3][1].node_index}, {result[3][2].node_index}]\")\n"
   ]
  },
  {
   "cell_type": "code",
   "execution_count": 6,
   "metadata": {},
   "outputs": [
    {
     "name": "stdout",
     "output_type": "stream",
     "text": [
      "[]\n"
     ]
    }
   ],
   "source": [
    "a = list()\n",
    "a.extend([])\n",
    "\n",
    "print(a)"
   ]
  }
 ],
 "metadata": {
  "kernelspec": {
   "display_name": "rebel",
   "language": "python",
   "name": "python3"
  },
  "language_info": {
   "codemirror_mode": {
    "name": "ipython",
    "version": 3
   },
   "file_extension": ".py",
   "mimetype": "text/x-python",
   "name": "python",
   "nbconvert_exporter": "python",
   "pygments_lexer": "ipython3",
   "version": "3.9.19"
  }
 },
 "nbformat": 4,
 "nbformat_minor": 2
}
